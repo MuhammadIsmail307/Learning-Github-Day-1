{
 "cells": [
  {
   "cell_type": "code",
   "execution_count": null,
   "metadata": {},
   "outputs": [],
   "source": [
    "import random\n",
    "\n",
    "\n",
    "def check(comp, user):\n",
    "    if (comp==user):\n",
    "        return 0\n",
    "    if (comp==0 and user==1):\n",
    "        return -1\n",
    "    if (comp==1 and user==2):\n",
    "        return -1\n",
    "    if (comp==2 and user==0):\n",
    "        return -1\n",
    "    return 1\n",
    "    \n",
    "\n",
    "comp = random.randit(0,2)\n",
    "user = int(input(\"Enter 0 for Snake, 1 for Water, 2 for Gun\"))\n",
    "\n",
    "\n",
    "score = check(comp,user)\n",
    "\n",
    "print(\"You: \", user)\n",
    "print(\"Computer: \", comp)\n",
    "\n",
    "if ( score== 0):\n",
    "    print(\"Its a Draw\")\n",
    "elif (score==  -1):\n",
    "    print(\"You Lose\")\n",
    "else :\n",
    "    print(\"You won\")"
   ]
  },
  {
   "cell_type": "code",
   "execution_count": 2,
   "metadata": {},
   "outputs": [
    {
     "name": "stdout",
     "output_type": "stream",
     "text": [
      "The Name of the employee is Ismail\n"
     ]
    }
   ],
   "source": [
    "class employee:\n",
    "    def __init__(self, name):\n",
    "        self.name = name\n",
    "    \n",
    "    def showdetails(self):\n",
    "        print(f\"The Name of the employee is {self.name}\")\n",
    "\n",
    "\n",
    "emp1 = employee('Ismail')\n",
    "employee.showdetails(emp1)"
   ]
  },
  {
   "cell_type": "code",
   "execution_count": 8,
   "metadata": {},
   "outputs": [
    {
     "name": "stdout",
     "output_type": "stream",
     "text": [
      "The Name of the employee is Ismail and the raise amount is 0.05 and he works in Microsoft\n"
     ]
    }
   ],
   "source": [
    "\n",
    "class employee:\n",
    "    CompanyName = \"Microsoft\"\n",
    "    def __init__(self, name):\n",
    "        self.name = name\n",
    "        self.raise_amount = 0.05\n",
    "    def showdetails(self):\n",
    "        print(f\"The Name of the employee is {self.name} and the raise amount is {self.raise_amount} and he works in {self.CompanyName}\")\n",
    "\n",
    "\n",
    "emp1 = employee('Ismail')\n",
    "employee.showdetails(emp1)"
   ]
  },
  {
   "cell_type": "code",
   "execution_count": 9,
   "metadata": {},
   "outputs": [
    {
     "name": "stdout",
     "output_type": "stream",
     "text": [
      "The Name of the employee is Ismail and the raise amount is 0.05 and he works in Googli\n"
     ]
    }
   ],
   "source": [
    "class employee:\n",
    "    CompanyName = \"Microsoft\"\n",
    "    def __init__(self, name):\n",
    "        self.name = name\n",
    "        self.raise_amount = 0.05\n",
    "    def showdetails(self):\n",
    "        print(f\"The Name of the employee is {self.name} and the raise amount is {self.raise_amount} and he works in {self.CompanyName}\")\n",
    "\n",
    "employee.CompanyName = \"Googli\"\n",
    "emp1 = employee('Ismail')\n",
    "employee.showdetails(emp1)"
   ]
  },
  {
   "cell_type": "code",
   "execution_count": 12,
   "metadata": {},
   "outputs": [
    {
     "name": "stdout",
     "output_type": "stream",
     "text": [
      "The Library has 3 Books\n"
     ]
    }
   ],
   "source": [
    "class library:\n",
    "    def __init__(self):\n",
    "        self.numbooks = 0\n",
    "        self.books = []\n",
    "\n",
    "    def addbook(self,Book):\n",
    "        self.books.append(Book)\n",
    "        self.numbooks = len(self.books)\n",
    "    \n",
    "    def showinfo(self):\n",
    "        print(f\"The Library has {self.numbooks} Books\")\n",
    "\n",
    "l1 = library()\n",
    "l1.addbook(\"Zeeshan Usmani\")\n",
    "l1.addbook(\"Data Scientist\")\n",
    "l1.addbook(\"Sumaira Hameed\")\n",
    "l1.showinfo()    "
   ]
  },
  {
   "cell_type": "code",
   "execution_count": 1,
   "metadata": {},
   "outputs": [
    {
     "name": "stdout",
     "output_type": "stream",
     "text": [
      "Write a progra, to clear the clutter inside a \n",
      "       folder in your computer. You should use OS Module\n",
      "       to rename all the png images from 1.png all the way \n",
      "       till n.png where n is the number of png files in\n",
      "       that folder. Do the same for other file formats.\n",
      "       \n",
      "       For Example: \n",
      "       \n",
      "       msg.png --> 1.png\n",
      "       whatsapp.png --> 2.png\n",
      "       ss.png --> 3.png  \n"
     ]
    }
   ],
   "source": [
    "b = '''Write a progra, to clear the clutter inside a \n",
    "       folder in your computer. You should use OS Module\n",
    "       to rename all the png images from 1.png all the way \n",
    "       till n.png where n is the number of png files in\n",
    "       that folder. Do the same for other file formats.\n",
    "       \n",
    "       For Example: \n",
    "       \n",
    "       msg.png --> 1.png\n",
    "       whatsapp.png --> 2.png\n",
    "       ss.png --> 3.png  '''\n",
    "\n",
    "print(b)"
   ]
  },
  {
   "cell_type": "code",
   "execution_count": 8,
   "metadata": {},
   "outputs": [
    {
     "name": "stdout",
     "output_type": "stream",
     "text": [
      "The name is Ismail and His company is Google\n",
      "The name is Ismail and His company is Apple\n"
     ]
    }
   ],
   "source": [
    "class employee:\n",
    "    company = \"Google\"\n",
    "    def show(self):\n",
    "        print(f\"The name is {self.name} and His company is {self.company}\")\n",
    "\n",
    "    \n",
    "    def changecompany(cls, newcomapny):\n",
    "        cls.company= newcomapny\n",
    "\n",
    "\n",
    "a1 = employee()\n",
    "a1.name = \"Ismail\"\n",
    "a1.show()\n",
    "a1.changecompany(\"Apple\")\n",
    "a1.show()"
   ]
  },
  {
   "cell_type": "code",
   "execution_count": 5,
   "metadata": {},
   "outputs": [
    {
     "name": "stdout",
     "output_type": "stream",
     "text": [
      "10000000000\n",
      "Ismail\n",
      "12000000\n",
      "Najeeb\n"
     ]
    }
   ],
   "source": [
    "class employee():\n",
    "    def __init__(self,salary,name):\n",
    "        self.name = name\n",
    "        self.salary = salary\n",
    "\n",
    "    def fromstr(cls,string):\n",
    "        return cls(str.split(\"-\")[0],str.split(\"-\")[1])\n",
    "\n",
    "\n",
    "e1 = employee(\"Ismail\", 10000000000)\n",
    "print(e1.name)\n",
    "print(e1.salary)\n",
    "\n",
    "\n",
    "str = \"Najeeb-12000000\"\n",
    "e1 = employee(str.split(\"-\")[0],str.split(\"-\")[1])\n",
    "print(e1.name)\n",
    "print(e1.salary)"
   ]
  },
  {
   "cell_type": "code",
   "execution_count": 1,
   "metadata": {},
   "outputs": [
    {
     "name": "stdout",
     "output_type": "stream",
     "text": [
      "['__add__', '__class__', '__class_getitem__', '__contains__', '__delattr__', '__delitem__', '__dir__', '__doc__', '__eq__', '__format__', '__ge__', '__getattribute__', '__getitem__', '__getstate__', '__gt__', '__hash__', '__iadd__', '__imul__', '__init__', '__init_subclass__', '__iter__', '__le__', '__len__', '__lt__', '__mul__', '__ne__', '__new__', '__reduce__', '__reduce_ex__', '__repr__', '__reversed__', '__rmul__', '__setattr__', '__setitem__', '__sizeof__', '__str__', '__subclasshook__', 'append', 'clear', 'copy', 'count', 'extend', 'index', 'insert', 'pop', 'remove', 'reverse', 'sort']\n",
      "<method-wrapper '__add__' of list object at 0x00000243B1167B40>\n"
     ]
    }
   ],
   "source": [
    "x = [1,2,3,4]\n",
    "print(dir(x))\n",
    "print(x.__add__)"
   ]
  },
  {
   "cell_type": "code",
   "execution_count": 2,
   "metadata": {},
   "outputs": [
    {
     "name": "stdout",
     "output_type": "stream",
     "text": [
      "{'name': 'Ismail', 'age': 50}\n",
      "Help on class person in module __main__:\n",
      "\n",
      "class person(builtins.object)\n",
      " |  person(name, age)\n",
      " |\n",
      " |  Methods defined here:\n",
      " |\n",
      " |  __init__(self, name, age)\n",
      " |      Initialize self.  See help(type(self)) for accurate signature.\n",
      " |\n",
      " |  ----------------------------------------------------------------------\n",
      " |  Data descriptors defined here:\n",
      " |\n",
      " |  __dict__\n",
      " |      dictionary for instance variables\n",
      " |\n",
      " |  __weakref__\n",
      " |      list of weak references to the object\n",
      "\n",
      "None\n"
     ]
    }
   ],
   "source": [
    "class person:\n",
    "    def __init__(self, name, age):\n",
    "        self.name = name\n",
    "        self.age = age\n",
    "\n",
    "\n",
    "p = person(\"Ismail\", 50)\n",
    "print(p.__dict__)\n",
    "\n",
    "\n",
    "print(help(person))"
   ]
  },
  {
   "cell_type": "code",
   "execution_count": 3,
   "metadata": {},
   "outputs": [
    {
     "name": "stdout",
     "output_type": "stream",
     "text": [
      "This is child method\n",
      "This is parent method\n",
      "Ismail is a good boy\n"
     ]
    }
   ],
   "source": [
    "class parentclass:\n",
    "    def parent_method(self):\n",
    "        print(\"This is parent method\")\n",
    "\n",
    "\n",
    "class childclass(parentclass):\n",
    "    def parent_method(self):\n",
    "        print(\"Ismail is a good boy\")\n",
    "    def child_method(self):\n",
    "        print(\"This is child method\")\n",
    "\n",
    "        super().parent_method()\n",
    "\n",
    "\n",
    "child_object = childclass()\n",
    "child_object.child_method()\n",
    "child_object.parent_method()"
   ]
  },
  {
   "cell_type": "code",
   "execution_count": 4,
   "metadata": {},
   "outputs": [
    {
     "name": "stdout",
     "output_type": "stream",
     "text": [
      "Ismail\n",
      "3\n"
     ]
    },
    {
     "ename": "AttributeError",
     "evalue": "'employee' object has no attribute 'lang'",
     "output_type": "error",
     "traceback": [
      "\u001b[1;31m---------------------------------------------------------------------------\u001b[0m",
      "\u001b[1;31mAttributeError\u001b[0m                            Traceback (most recent call last)",
      "Cell \u001b[1;32mIn[4], line 17\u001b[0m\n\u001b[0;32m     15\u001b[0m \u001b[38;5;28mprint\u001b[39m(ismail\u001b[38;5;241m.\u001b[39mname)\n\u001b[0;32m     16\u001b[0m \u001b[38;5;28mprint\u001b[39m(ismail\u001b[38;5;241m.\u001b[39mid)\n\u001b[1;32m---> 17\u001b[0m \u001b[38;5;28mprint\u001b[39m(\u001b[43mismail\u001b[49m\u001b[38;5;241;43m.\u001b[39;49m\u001b[43mlang\u001b[49m)\n",
      "\u001b[1;31mAttributeError\u001b[0m: 'employee' object has no attribute 'lang'"
     ]
    }
   ],
   "source": [
    "class employee:\n",
    "    def __init__(self,name,id):\n",
    "        self.name = name \n",
    "        self.id = id\n",
    "\n",
    "\n",
    "class programmer(employee):\n",
    "    def __init__(self,name,id,lang):\n",
    "        self.name = name\n",
    "        super().__init__(name,id)\n",
    "        self.lang = lang\n",
    "\n",
    "ismail = employee(\"Ismail\", \"3\")\n",
    "iqra = programmer(\"Iqra\", \"4\", \"java\")\n",
    "print(ismail.name)\n",
    "print(ismail.id)\n",
    "print(ismail.lang)"
   ]
  },
  {
   "cell_type": "code",
   "execution_count": 3,
   "metadata": {},
   "outputs": [
    {
     "name": "stdout",
     "output_type": "stream",
     "text": [
      "Muhammad Ismail\n",
      "15\n"
     ]
    }
   ],
   "source": [
    "class employee():\n",
    "    def __init__(self, name ):\n",
    "        self.name = name\n",
    "    \n",
    "    def __len__(self):\n",
    "        i=0\n",
    "        for c in self.name:\n",
    "            i = i + 1\n",
    "        \n",
    "        return i\n",
    "    \n",
    "\n",
    "e = employee(\"Muhammad Ismail\")\n",
    "print(e.name)\n",
    "print(len(e))"
   ]
  },
  {
   "cell_type": "code",
   "execution_count": 3,
   "metadata": {},
   "outputs": [
    {
     "name": "stdout",
     "output_type": "stream",
     "text": [
      "28\n"
     ]
    }
   ],
   "source": [
    "class shape:\n",
    "    def __init__(self,x,y):\n",
    "        self.x = x\n",
    "        self.y = y\n",
    "\n",
    "    def area(self):\n",
    "        return self.x * self.y\n",
    "\n",
    "# class circle(shape):\n",
    "#     def __init___(self,radius):\n",
    "#         self.radius = radius\n",
    "\n",
    "#     def area(self):\n",
    "#         return 3.14 * self.radius * self.radius \n",
    "\n",
    "\n",
    "rectangle = shape(4,7) \n",
    "print(rectangle.area())"
   ]
  },
  {
   "cell_type": "code",
   "execution_count": 5,
   "metadata": {},
   "outputs": [
    {
     "name": "stdout",
     "output_type": "stream",
     "text": [
      "15\n"
     ]
    },
    {
     "ename": "TypeError",
     "evalue": "shape.__init__() missing 1 required positional argument: 'y'",
     "output_type": "error",
     "traceback": [
      "\u001b[1;31m---------------------------------------------------------------------------\u001b[0m",
      "\u001b[1;31mTypeError\u001b[0m                                 Traceback (most recent call last)",
      "Cell \u001b[1;32mIn[5], line 22\u001b[0m\n\u001b[0;32m     17\u001b[0m rectangle \u001b[38;5;241m=\u001b[39m shape(\u001b[38;5;241m3\u001b[39m,\u001b[38;5;241m5\u001b[39m) \n\u001b[0;32m     18\u001b[0m \u001b[38;5;28mprint\u001b[39m(rectangle\u001b[38;5;241m.\u001b[39marea())    \n\u001b[1;32m---> 22\u001b[0m a \u001b[38;5;241m=\u001b[39m \u001b[43mcircle\u001b[49m\u001b[43m(\u001b[49m\u001b[38;5;241;43m4\u001b[39;49m\u001b[43m)\u001b[49m\n\u001b[0;32m     23\u001b[0m \u001b[38;5;28mprint\u001b[39m(a\u001b[38;5;241m.\u001b[39marea())\n",
      "\u001b[1;31mTypeError\u001b[0m: shape.__init__() missing 1 required positional argument: 'y'"
     ]
    }
   ],
   "source": [
    "class shape:\n",
    "    def __init__(self,x,y):\n",
    "        self.x = x\n",
    "        self.y = y\n",
    "\n",
    "    def area(self):\n",
    "        return self.x * self.y\n",
    "\n",
    "class circle(shape):\n",
    "    def __init___(self,radius):\n",
    "        self.radius = radius\n",
    "\n",
    "    def area(self):\n",
    "        return 3.14 * self.radius * self.radius \n",
    "\n",
    "\n",
    "rectangle = shape(3,5) \n",
    "print(rectangle.area())    \n",
    "\n",
    "\n",
    "\n",
    "a = circle(4)\n",
    "print(a.area())"
   ]
  },
  {
   "cell_type": "code",
   "execution_count": 10,
   "metadata": {},
   "outputs": [
    {
     "name": "stdout",
     "output_type": "stream",
     "text": [
      "15\n",
      "75.36\n"
     ]
    }
   ],
   "source": [
    "class shape:\n",
    "    def __init__(self,x,y):\n",
    "        self.x = x\n",
    "        self.y = y\n",
    "\n",
    "    def area(self):\n",
    "        return self.x * self.y\n",
    "\n",
    "class circle(shape):\n",
    "    def __init___(self,radius):\n",
    "        super().__init__(radius,radius)\n",
    "\n",
    "    def area(self):\n",
    "        return 3.14 * super().area() \n",
    "\n",
    "\n",
    "rectangle = shape(3,5) \n",
    "print(rectangle.area())    \n",
    "\n",
    "\n",
    "\n",
    "a = circle(4,6)\n",
    "print(a.area())"
   ]
  },
  {
   "cell_type": "code",
   "execution_count": 3,
   "metadata": {},
   "outputs": [
    {
     "name": "stdout",
     "output_type": "stream",
     "text": [
      "Bark !\n",
      "Sound made by animal\n"
     ]
    }
   ],
   "source": [
    "class Animal:\n",
    "    def __init__(self, name, species):\n",
    "        self.name = name\n",
    "        self.species = species\n",
    "    \n",
    "    def make_sound(self):\n",
    "        print(\"Sound made by animal\")\n",
    "\n",
    "\n",
    "class dog(Animal):\n",
    "    def __init__(self, name, breed):\n",
    "        Animal.__init__(self,name,species=\"dog\")\n",
    "        self.breed = breed\n",
    "\n",
    "    def make_sound(self):\n",
    "        print(\"Bark !\")\n",
    "\n",
    "\n",
    "c = dog(\"Tommy\", \"German\")\n",
    "c.make_sound()\n",
    "\n",
    "a = Animal(\"Tommy\", \"German\")\n",
    "a.make_sound()"
   ]
  },
  {
   "cell_type": "code",
   "execution_count": null,
   "metadata": {},
   "outputs": [
    {
     "name": "stdout",
     "output_type": "stream",
     "text": [
      "<__main__.employee_Reader object at 0x000001600766FB60>\n",
      "Ismail\n",
      "Great\n",
      "The name is Ismail\n"
     ]
    }
   ],
   "source": [
    "class employee:\n",
    "    def __init__(self, name):\n",
    "        self.name = name\n",
    "\n",
    "    def show(self):\n",
    "        print(f\"The name is {self.name}\")\n",
    "\n",
    "class Reader:\n",
    "    def __init__(self, reader):\n",
    "        self.reader = reader\n",
    "\n",
    "    def show(self):\n",
    "        print(f\"The reader is {self.reader}\")\n",
    "\n",
    "\n",
    "class employee_Reader(employee,Reader):\n",
    "    \n",
    "    def __init__(self, name, reader):\n",
    "        self.name = name\n",
    "        self.reader = reader\n",
    "        \n",
    "o = employee_Reader(\"Ismail\", \"Great\")\n",
    "print(o)\n",
    "print(o.name)\n",
    "print(o.reader)\n",
    "o.show()\n"
   ]
  },
  {
   "cell_type": "code",
   "execution_count": 2,
   "metadata": {},
   "outputs": [
    {
     "name": "stdout",
     "output_type": "stream",
     "text": [
      "0\n",
      "1\n",
      "2\n",
      "3\n",
      "4\n",
      "0.0009970664978027344\n",
      "1\n",
      "2\n",
      "3\n",
      "4\n",
      "5\n",
      "0.0009970664978027344\n",
      "None\n"
     ]
    }
   ],
   "source": [
    "import time\n",
    "\n",
    "def usingWhile():\n",
    "    i=0\n",
    "    while i<5:\n",
    "        i=i+1\n",
    "        print(i)\n",
    "\n",
    "\n",
    "def usingFor():\n",
    "    for i in range(5):\n",
    "        print(i)\n",
    "    \n",
    "\n",
    "init = time.time()\n",
    "\n",
    "usingFor()\n",
    "\n",
    "t1 = print(time.time()-init)\n",
    "\n",
    "\n",
    "usingWhile()\n",
    "\n",
    "print(time.time()-init)\n",
    "print(t1)"
   ]
  },
  {
   "cell_type": "code",
   "execution_count": 1,
   "metadata": {},
   "outputs": [
    {
     "name": "stdout",
     "output_type": "stream",
     "text": [
      "4\n",
      "I am back with after 5 seconds\n"
     ]
    }
   ],
   "source": [
    "import time\n",
    "\n",
    "print(\"4\")\n",
    "time.sleep(5)\n",
    "print(\"I am back with after 5 seconds\")"
   ]
  },
  {
   "cell_type": "code",
   "execution_count": 1,
   "metadata": {},
   "outputs": [],
   "source": [
    "import win32com.client\n",
    "\n",
    "\n",
    "names = [\"Ismail\", \"Najeeb\" , \"Rehan\"]\n",
    "\n",
    "speaker = win32com.client.Dispatch(\"SAPI.SpVoice\")\n",
    "\n",
    "for name in names:\n",
    "    speaker.speak(f\"Shout Out to {name}\")"
   ]
  }
 ],
 "metadata": {
  "kernelspec": {
   "display_name": "Python 3",
   "language": "python",
   "name": "python3"
  },
  "language_info": {
   "codemirror_mode": {
    "name": "ipython",
    "version": 3
   },
   "file_extension": ".py",
   "mimetype": "text/x-python",
   "name": "python",
   "nbconvert_exporter": "python",
   "pygments_lexer": "ipython3",
   "version": "3.12.8"
  }
 },
 "nbformat": 4,
 "nbformat_minor": 2
}
